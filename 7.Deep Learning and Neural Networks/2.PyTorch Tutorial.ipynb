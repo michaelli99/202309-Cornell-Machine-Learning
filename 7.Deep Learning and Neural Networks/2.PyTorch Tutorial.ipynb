{
 "cells": [
  {
   "cell_type": "markdown",
   "metadata": {},
   "source": [
    "<h1>About this Exercise</h1>\n",
    "\n",
    "This tutorial will provide you with enough information to finish CIS537 projects that use [PyTorch](https://pytorch.org/) but it is not meant to be a comprehensive tutorial for PyTorch. For a complete tutorial on Pytorch, review PyTorch's official tutorial:\n",
    "https://pytorch.org/tutorials/"
   ]
  },
  {
   "cell_type": "markdown",
   "metadata": {},
   "source": [
    "<h3>What is PyTorch?</h3>\n",
    "\n",
    "PyTorch is a python-based deep learning platform that provides GPU support. To start, first import the PyTorch packages and some of its some packages."
   ]
  },
  {
   "cell_type": "code",
   "execution_count": 1,
   "metadata": {},
   "outputs": [],
   "source": [
    "# import PyTorch and its subpackages\n",
    "import torch\n",
    "import torch.nn as nn\n",
    "from torch.nn import functional as F\n",
    "\n",
    "# Also other packages for convenience\n",
    "import numpy as np\n",
    "import helper as h\n",
    "import matplotlib.pyplot as plt"
   ]
  },
  {
   "cell_type": "markdown",
   "metadata": {},
   "source": [
    "<h3>0. Tensors</h3>\n",
    "\n",
    "Tensors are the basic building blocks of PyTorch. They are similar to NumPy's ndarrays. For example, to create a tensor of all zeros with size (3, 2), you can do the following:"
   ]
  },
  {
   "cell_type": "code",
   "execution_count": 2,
   "metadata": {},
   "outputs": [
    {
     "name": "stdout",
     "output_type": "stream",
     "text": [
      "tensor([[0., 0.],\n",
      "        [0., 0.],\n",
      "        [0., 0.]])\n",
      "torch.Size([3, 2])\n"
     ]
    }
   ],
   "source": [
    "X = torch.zeros(3, 2) # this syntax is similar to NumPy. In Numpy, we would do np.zeros((3,2))\n",
    "\n",
    "print(X)\n",
    "print(X.shape)"
   ]
  },
  {
   "cell_type": "markdown",
   "metadata": {},
   "source": [
    "You can also convert a NumPy array to a torch Tensor: "
   ]
  },
  {
   "cell_type": "code",
   "execution_count": 3,
   "metadata": {},
   "outputs": [
    {
     "name": "stdout",
     "output_type": "stream",
     "text": [
      "NumPy Array:  [ 0  1  2  3  4  5  6  7  8  9 10 11 12 13 14]\n",
      "Pytorch Tensor:  tensor([ 0,  1,  2,  3,  4,  5,  6,  7,  8,  9, 10, 11, 12, 13, 14])\n"
     ]
    }
   ],
   "source": [
    "X_numpy = np.arange(15)\n",
    "print('NumPy Array: ', X_numpy)\n",
    "\n",
    "X_tensor = torch.tensor(X_numpy)\n",
    "print('Pytorch Tensor: ', X_tensor)"
   ]
  },
  {
   "cell_type": "markdown",
   "metadata": {},
   "source": [
    "You can also convert a torch Tensor to a NumPy array"
   ]
  },
  {
   "cell_type": "code",
   "execution_count": 4,
   "metadata": {},
   "outputs": [
    {
     "name": "stdout",
     "output_type": "stream",
     "text": [
      "[ 0  1  2  3  4  5  6  7  8  9 10 11 12 13 14]\n",
      "<class 'numpy.ndarray'>\n"
     ]
    }
   ],
   "source": [
    "X_tensor_numpy = X_tensor.numpy()\n",
    "\n",
    "print(X_tensor_numpy)\n",
    "print(type(X_tensor_numpy))"
   ]
  },
  {
   "cell_type": "markdown",
   "metadata": {},
   "source": [
    "Just like NumPy, you can do arithmetic operations on torch Tensor"
   ]
  },
  {
   "cell_type": "code",
   "execution_count": 5,
   "metadata": {},
   "outputs": [
    {
     "name": "stdout",
     "output_type": "stream",
     "text": [
      "Addition in Numpy [2 7 9]\n",
      "Addition in PyTorch tensor([2., 7., 9.])\n",
      "\n",
      "Scalar Multiplication in Numpy [3 6 9]\n",
      "Scalar Multiplication in PyTorch tensor([3., 6., 9.])\n",
      "\n",
      "Elementwise Multiplication in Numpy [ 1 10 18]\n",
      "Elementiwse Multiplication in PyTorch tensor([ 1., 10., 18.])\n",
      "\n",
      "Matrix Multiplication in Numpy 29\n",
      "Matrix Multiplication in PyTorch tensor(29.)\n",
      "\n"
     ]
    }
   ],
   "source": [
    "# Create two numpy arrays\n",
    "A = np.array([1, 2, 3])\n",
    "B = np.array([1, 5, 6])\n",
    "\n",
    "# Convert the two numpy arrays into torch Tensor\n",
    "A_tensor = torch.Tensor(A)\n",
    "B_tensor = torch.Tensor(B)\n",
    "\n",
    "# addition / subtraction\n",
    "print('Addition in Numpy', A + B)\n",
    "print('Addition in PyTorch', A_tensor + B_tensor)\n",
    "print()\n",
    "\n",
    "# scalar multiplication\n",
    "print('Scalar Multiplication in Numpy', 3*A)\n",
    "print('Scalar Multiplication in PyTorch', 3*A_tensor)\n",
    "print()\n",
    "\n",
    "# elementwise multiplication\n",
    "print('Elementwise Multiplication in Numpy', A*B)\n",
    "print('Elementiwse Multiplication in PyTorch', A_tensor*B_tensor)\n",
    "print()\n",
    "\n",
    "# matrix multiplication\n",
    "# this is slightly different from NumPy\n",
    "print('Matrix Multiplication in Numpy', A@B)\n",
    "print('Matrix Multiplication in PyTorch', torch.matmul(A_tensor, B_tensor))\n",
    "print()"
   ]
  },
  {
   "cell_type": "markdown",
   "metadata": {},
   "source": [
    "Some other useful tensor operations:"
   ]
  },
  {
   "cell_type": "code",
   "execution_count": 6,
   "metadata": {},
   "outputs": [
    {
     "name": "stdout",
     "output_type": "stream",
     "text": [
      "Elementwise Comparison in NumPy:  [ True False False]\n",
      "Elementwise omparison in PyTorch:  tensor([ True, False, False])\n",
      "\n",
      "C [[10  9  8]\n",
      " [ 6  7  5]\n",
      " [ 1  2  3]]\n",
      "\n",
      "Sum along row (down) in NumPy:  [17 18 16]\n",
      "Sum along row (down) in PyTorch:  tensor([17., 18., 16.])\n",
      "\n",
      "Mean along column (across) in NumPy:  [9. 6. 2.]\n",
      "Mean along column (across) in PyTorch:  tensor([9., 6., 2.])\n",
      "\n",
      "argmax along column (across) in NumPy:  [0 1 2]\n",
      "argmax along column (across) in PyTorch:  tensor([0, 1, 2])\n",
      "\n"
     ]
    }
   ],
   "source": [
    "# Elementwise comparison\n",
    "print('Elementwise Comparison in NumPy: ', A == B)\n",
    "print('Elementwise omparison in PyTorch: ', A_tensor == B_tensor)\n",
    "print()\n",
    "\n",
    "# Generate a random matrix\n",
    "C = np.array([[10, 9, 8], [6, 7, 5], [1, 2, 3]])\n",
    "C_tensor = torch.Tensor(C)\n",
    "\n",
    "print('C', C)\n",
    "print()\n",
    "\n",
    "# Sum along the row\n",
    "# In NumPy, we specify the axis.\n",
    "# In PyTorch, we specify the dim\n",
    "print('Sum along row (down) in NumPy: ', np.sum(C, axis=0))\n",
    "print('Sum along row (down) in PyTorch: ' ,torch.sum(C_tensor, dim=0))\n",
    "print()\n",
    "\n",
    "# Find the mean along the column\n",
    "# In NumPy, we specify the axis.\n",
    "# In PyTorch, we specify the dim\n",
    "print('Mean along column (across) in NumPy: ', np.mean(C, axis=1))\n",
    "print('Mean along column (across) in PyTorch: ', torch.mean(C_tensor, dim=1))\n",
    "print()\n",
    "\n",
    "\n",
    "# Find the argmax along the column\n",
    "# In NumPy, we specify the axis.\n",
    "# In PyTorch, we specify the dim\n",
    "print('argmax along column (across) in NumPy: ', np.argmax(C, axis=1))\n",
    "print('argmax along column (across) in PyTorch: ', torch.argmax(C_tensor, dim=1))\n",
    "print()"
   ]
  },
  {
   "cell_type": "markdown",
   "metadata": {},
   "source": [
    "<h3>1. Creating a model</h3>\n",
    "\n",
    "In the following sections, we are going to develop a multilayer perceptron for our favorite spiral dataset. To start, let's generate and visualize the dataset. "
   ]
  },
  {
   "cell_type": "code",
   "execution_count": 7,
   "metadata": {},
   "outputs": [
    {
     "data": {
      "image/png": "[encoded data removed]",
      "text/plain": [
       "<Figure size 432x288 with 1 Axes>"
      ]
     },
     "metadata": {
      "needs_background": "light"
     },
     "output_type": "display_data"
    }
   ],
   "source": [
    "# Running the following code with generate\n",
    "# 600 datapoints\n",
    "# 300 in class 0 \n",
    "# 300 in class 1\n",
    "X, y = h.spiraldata(N=300)\n",
    "\n",
    "h.visualize_2D(X.numpy(), y.numpy())"
   ]
  },
  {
   "cell_type": "markdown",
   "metadata": {},
   "source": [
    "Now, we will create a multilayer perceptron. In Pytorch, to create a model, we need to create a model class that overloads <code>nn.Module</code> and implement the <code>forward()</code> function that performs forward propagation."
   ]
  },
  {
   "cell_type": "code",
   "execution_count": 8,
   "metadata": {},
   "outputs": [],
   "source": [
    "# create a model class named MLP\n",
    "# overloads nn.Module \n",
    "\n",
    "# This MLP is a simple multilayer perceptron with 3-hidden layers \n",
    "# with ReLU transition function\n",
    "class MLP(nn.Module):\n",
    "    def __init__(self):\n",
    "        # call the constructor of the inherited module\n",
    "        # this line is always necessary\n",
    "        super().__init__()\n",
    "        \n",
    "        # All the layers with trainable parameters have to be \n",
    "        # defined in the constructor\n",
    "        # Create a linear layer that takes input of dimension 2\n",
    "        # and outputs a vector of dimension 64\n",
    "        # Similarly, create the consequent layers\n",
    "        self.fc1 = nn.Linear(in_features=2, out_features=64)\n",
    "        self.fc2 = nn.Linear(in_features=64, out_features=32)\n",
    "        self.fc3 = nn.Linear(in_features=32, out_features=16)\n",
    "        \n",
    "        # The last layer should output a two dimensional vector\n",
    "        # where the first dimension corresponds to the network's\n",
    "        # belief that the input belongs to class 0\n",
    "        # and similarly, second dimension corresponds to class 1\n",
    "        self.fc4 = nn.Linear(in_features=16, out_features=2)\n",
    "        \n",
    "    def forward(self, x):\n",
    "        # apply the first linear transformation to input x\n",
    "        # then apply the ReLU transition to get the output\n",
    "        # of the first hidden layer o1\n",
    "        # Similar procedures are done to get o2, o3\n",
    "        o1 = F.relu(self.fc1(x))\n",
    "        o2 = F.relu(self.fc2(o1))\n",
    "        o3 = F.relu(self.fc3(o2))\n",
    "        \n",
    "        # We do not apply any transition function to the output\n",
    "        # of the final hidden layer\n",
    "        o4 = self.fc4(o3)\n",
    "        return o4"
   ]
  },
  {
   "cell_type": "markdown",
   "metadata": {},
   "source": [
    "Now, we can instantiate a model and do forward propagation by running the following cell: "
   ]
  },
  {
   "cell_type": "code",
   "execution_count": 9,
   "metadata": {},
   "outputs": [
    {
     "name": "stdout",
     "output_type": "stream",
     "text": [
      "torch.Size([600, 2])\n"
     ]
    }
   ],
   "source": [
    "# Instantiate a model\n",
    "model = MLP()\n",
    "\n",
    "# Run forward propagation\n",
    "logits = model(X)\n",
    "\n",
    "# Print the output of the model\n",
    "# This should be (600, 2)\n",
    "print(logits.shape)"
   ]
  },
  {
   "cell_type": "markdown",
   "metadata": {},
   "source": [
    "<h3>2. Define a loss function</h3>\n",
    "\n",
    "To train a neural network, we need a loss function. Since we are doing a classification problem, we are going to use the cross entropy loss. Luckily, Pytorch has implemented this for us. For a comprehensive list of PyTorch implemented loss function, please check out: https://pytorch.org/docs/1.1.0/nn.html#loss-functions"
   ]
  },
  {
   "cell_type": "code",
   "execution_count": 10,
   "metadata": {},
   "outputs": [],
   "source": [
    "# create the cross entropy loss function\n",
    "# this loss function takes in logits and labels and return the loss value\n",
    "# Concretely, loss_fn(logits, y) returns the cross entropy loss between\n",
    "# the prediction and ground truth\n",
    "loss_fn = nn.CrossEntropyLoss()"
   ]
  },
  {
   "cell_type": "markdown",
   "metadata": {},
   "source": [
    "<h3>3. Define an optimizer </h3>\n",
    "We are going to use an SGD optimizer to optimize our MLP. Conveniently, PyTorch has implemented SGD for us. "
   ]
  },
  {
   "cell_type": "code",
   "execution_count": 11,
   "metadata": {},
   "outputs": [],
   "source": [
    "# torch.optim.SGD is the optimizer that PyTorch implemented\n",
    "# it takes the model's parameter, which you can get by calling\n",
    "# model.parameters()\n",
    "# and learning rate lr\n",
    "optimizer = torch.optim.SGD(model.parameters(), lr=0.1)"
   ]
  },
  {
   "cell_type": "markdown",
   "metadata": {},
   "source": [
    "<h3>4. Training the Network </h3>\n",
    "\n",
    "With all the ingredients we have, we are ready to train our multilayer perceptrons."
   ]
  },
  {
   "cell_type": "code",
   "execution_count": 12,
   "metadata": {},
   "outputs": [
    {
     "name": "stdout",
     "output_type": "stream",
     "text": [
      "Epoch [50/ 2000], Loss: 0.6555 \n",
      "Epoch [100/ 2000], Loss: 0.6488 \n",
      "Epoch [150/ 2000], Loss: 0.6420 \n",
      "Epoch [200/ 2000], Loss: 0.6339 \n",
      "Epoch [250/ 2000], Loss: 0.6257 \n",
      "Epoch [300/ 2000], Loss: 0.6179 \n",
      "Epoch [350/ 2000], Loss: 0.6074 \n",
      "Epoch [400/ 2000], Loss: 0.5979 \n",
      "Epoch [450/ 2000], Loss: 0.5920 \n",
      "Epoch [500/ 2000], Loss: 0.5825 \n",
      "Epoch [550/ 2000], Loss: 0.5423 \n",
      "Epoch [600/ 2000], Loss: 0.5198 \n",
      "Epoch [650/ 2000], Loss: 0.4666 \n",
      "Epoch [700/ 2000], Loss: 0.4410 \n",
      "Epoch [750/ 2000], Loss: 0.3641 \n",
      "Epoch [800/ 2000], Loss: 0.2779 \n",
      "Epoch [850/ 2000], Loss: 0.2590 \n",
      "Epoch [900/ 2000], Loss: 0.1468 \n",
      "Epoch [950/ 2000], Loss: 0.0730 \n",
      "Epoch [1000/ 2000], Loss: 0.0345 \n",
      "Epoch [1050/ 2000], Loss: 0.0190 \n",
      "Epoch [1100/ 2000], Loss: 0.0125 \n",
      "Epoch [1150/ 2000], Loss: 0.0091 \n",
      "Epoch [1200/ 2000], Loss: 0.0070 \n",
      "Epoch [1250/ 2000], Loss: 0.0056 \n",
      "Epoch [1300/ 2000], Loss: 0.0046 \n",
      "Epoch [1350/ 2000], Loss: 0.0039 \n",
      "Epoch [1400/ 2000], Loss: 0.0033 \n",
      "Epoch [1450/ 2000], Loss: 0.0029 \n",
      "Epoch [1500/ 2000], Loss: 0.0026 \n",
      "Epoch [1550/ 2000], Loss: 0.0023 \n",
      "Epoch [1600/ 2000], Loss: 0.0021 \n",
      "Epoch [1650/ 2000], Loss: 0.0019 \n",
      "Epoch [1700/ 2000], Loss: 0.0018 \n",
      "Epoch [1750/ 2000], Loss: 0.0016 \n",
      "Epoch [1800/ 2000], Loss: 0.0015 \n",
      "Epoch [1850/ 2000], Loss: 0.0014 \n",
      "Epoch [1900/ 2000], Loss: 0.0013 \n",
      "Epoch [1950/ 2000], Loss: 0.0012 \n",
      "Epoch [2000/ 2000], Loss: 0.0012 \n"
     ]
    }
   ],
   "source": [
    "# Num_epochs is the number we are going to go through the dataset\n",
    "# This is a simple dataset so we are just going to do a vanilla Gradient Descent\n",
    "# rather than minibatch Stochastic Gradient Descent\n",
    "num_epochs = 2000\n",
    "\n",
    "losses = []\n",
    "for epoch in range(num_epochs):\n",
    "    # Set the model to training mode\n",
    "    # This step is always necessary during training \n",
    "    model.train()\n",
    "    \n",
    "    # PyTorch keeps track of all the gradients generated \n",
    "    # throughout the whole training procedure\n",
    "    # But we only need the gradient of the current time step\n",
    "    # so we need to zero-out the gradient buffer\n",
    "    optimizer.zero_grad()\n",
    "    \n",
    "    # Do forward propagation\n",
    "    logits = model(X)\n",
    "    \n",
    "    # Calculate the loss \n",
    "    loss = loss_fn(logits, y)\n",
    "    \n",
    "    # Do backward propagation\n",
    "    loss.backward()\n",
    "    \n",
    "    # Update the model parameters \n",
    "    optimizer.step()\n",
    "    \n",
    "    # Get the prediction\n",
    "    prediction = torch.argmax(logits, dim=1)\n",
    "    \n",
    "    # PyTorch supports elements elementwise comparison\n",
    "    acc = torch.mean((prediction == y).float())\n",
    "    \n",
    "    losses.append(loss.item())\n",
    "    \n",
    "    # print the loss value every 50 epochs\n",
    "    if (epoch + 1) % 50 == 0:\n",
    "        print('Epoch [{}/ {}], Loss: {:.4f} '.format(epoch + 1, num_epochs, losses[-1]))"
   ]
  },
  {
   "cell_type": "code",
   "execution_count": 13,
   "metadata": {},
   "outputs": [
    {
     "data": {
      "image/png": "[encoded data removed]",
      "text/plain": [
       "<Figure size 432x288 with 1 Axes>"
      ]
     },
     "metadata": {
      "needs_background": "light"
     },
     "output_type": "display_data"
    }
   ],
   "source": [
    "# Plot the training loss\n",
    "plt.plot(range(1, num_epochs + 1), losses, label='Training Loss')\n",
    "plt.xlabel('Epoch')\n",
    "plt.show()"
   ]
  },
  {
   "cell_type": "markdown",
   "metadata": {},
   "source": [
    "<h3>5. Evaluate the Network </h3>"
   ]
  },
  {
   "cell_type": "code",
   "execution_count": 14,
   "metadata": {},
   "outputs": [
    {
     "name": "stdout",
     "output_type": "stream",
     "text": [
      "Accuracy: 100.00%\n"
     ]
    }
   ],
   "source": [
    "# Need to go into eval mode\n",
    "model.eval()\n",
    "\n",
    "# Do a forward pass and tell PyTorch to not keep track of\n",
    "# the gradient calculation to save memory\n",
    "with torch.no_grad():\n",
    "    logits = model(X)\n",
    "\n",
    "# make prediction\n",
    "prediction = torch.argmax(logits, dim=1)\n",
    "\n",
    "# Calculate the accracuy\n",
    "print('Accuracy: {:.2f}%'.format(torch.mean((prediction == y).float()).item() * 100))"
   ]
  },
  {
   "cell_type": "code",
   "execution_count": 15,
   "metadata": {},
   "outputs": [
    {
     "data": {
      "image/png": "[encoded data removed]",
      "text/plain": [
       "<Figure size 432x288 with 1 Axes>"
      ]
     },
     "metadata": {
      "needs_background": "light"
     },
     "output_type": "display_data"
    }
   ],
   "source": [
    "# visualize the model\n",
    "h.visclassifier(model, X.numpy(), y.numpy())"
   ]
  },
  {
   "cell_type": "markdown",
   "metadata": {},
   "source": [
    "<h3>(Optional) Exercise</h3>\n",
    "\n",
    "In the following cell, you will create another multilayer perceptron with 2 hidden layers. The first hidden layer has 256 neurons and the second hidden layer has 128 neurons. We have provided the following code stub. What you need to is to fill in the blanks. "
   ]
  },
  {
   "cell_type": "code",
   "execution_count": 16,
   "metadata": {},
   "outputs": [],
   "source": [
    "class MLP_v2(nn.Module):\n",
    "    def __init__(self):\n",
    "        # call the constructor of the inherited module\n",
    "        # this line is always necessary\n",
    "        super().__init__()\n",
    "        \n",
    "        # TODO: fill in the blank with the right layer\n",
    "        self.fc1 = None\n",
    "        self.fc2 = None\n",
    "        self.fc3 = None\n",
    "        \n",
    "        ### BEGIN SOLUTION\n",
    "        self.fc1 = nn.Linear(in_features=2, out_features=256)\n",
    "        self.fc2 = nn.Linear(in_features=256, out_features=128)\n",
    "        self.fc3 = nn.Linear(in_features=128, out_features=2)\n",
    "        ### END SOLUTION\n",
    "        \n",
    "    def forward(self, x):\n",
    "        o1 = F.relu(self.fc1(x))\n",
    "        o2 = F.relu(self.fc2(o1))\n",
    "        o3 = self.fc3(o2)\n",
    "        return o3"
   ]
  },
  {
   "cell_type": "code",
   "execution_count": 17,
   "metadata": {},
   "outputs": [],
   "source": [
    "model_v2 = MLP_v2()\n",
    "\n",
    "# If you create the right model, you should be able to pass the following test\n",
    "\n",
    "# Checking the size of the parameters in the first layer\n",
    "fc1_parameters = list(model_v2.fc1.parameters())\n",
    "\n",
    "# the weight should have size (256, 2)\n",
    "assert fc1_parameters[0].shape == (256, 2)\n",
    "# the bias should have size (256, )\n",
    "assert fc1_parameters[1].shape == (256, )\n",
    "\n",
    "# Checking the size of the parameters in the second layer\n",
    "fc2_parameters = list(model_v2.fc2.parameters())\n",
    "assert fc2_parameters[0].shape == (128, 256)\n",
    "assert fc2_parameters[1].shape == (128, )\n",
    "\n",
    "# Checking the size of the parameters in the last layer\n",
    "fc3_parameters = list(model_v2.fc3.parameters())\n",
    "assert fc3_parameters[0].shape == (2, 128)\n",
    "assert fc3_parameters[1].shape == (2, )"
   ]
  },
  {
   "cell_type": "code",
   "execution_count": 18,
   "metadata": {},
   "outputs": [],
   "source": [
    "# creating a new optimizer\n",
    "# Feel free to play around with the learning rate\n",
    "optimizer_v2 = torch.optim.SGD(model_v2.parameters(), lr=0.1)"
   ]
  },
  {
   "cell_type": "code",
   "execution_count": 19,
   "metadata": {},
   "outputs": [
    {
     "name": "stdout",
     "output_type": "stream",
     "text": [
      "Epoch [50/ 2000], Loss: 0.6358 \n",
      "Epoch [100/ 2000], Loss: 0.6223 \n",
      "Epoch [150/ 2000], Loss: 0.6040 \n",
      "Epoch [200/ 2000], Loss: 0.5925 \n",
      "Epoch [250/ 2000], Loss: 0.5499 \n",
      "Epoch [300/ 2000], Loss: 0.5074 \n",
      "Epoch [350/ 2000], Loss: 0.4648 \n",
      "Epoch [400/ 2000], Loss: 0.4608 \n",
      "Epoch [450/ 2000], Loss: 0.3800 \n",
      "Epoch [500/ 2000], Loss: 0.3398 \n",
      "Epoch [550/ 2000], Loss: 0.3266 \n",
      "Epoch [600/ 2000], Loss: 0.3098 \n",
      "Epoch [650/ 2000], Loss: 0.2828 \n",
      "Epoch [700/ 2000], Loss: 0.2225 \n",
      "Epoch [750/ 2000], Loss: 0.1015 \n",
      "Epoch [800/ 2000], Loss: 0.0527 \n",
      "Epoch [850/ 2000], Loss: 0.0368 \n",
      "Epoch [900/ 2000], Loss: 0.0262 \n",
      "Epoch [950/ 2000], Loss: 0.0207 \n",
      "Epoch [1000/ 2000], Loss: 0.0171 \n",
      "Epoch [1050/ 2000], Loss: 0.0145 \n",
      "Epoch [1100/ 2000], Loss: 0.0124 \n",
      "Epoch [1150/ 2000], Loss: 0.0109 \n",
      "Epoch [1200/ 2000], Loss: 0.0096 \n",
      "Epoch [1250/ 2000], Loss: 0.0086 \n",
      "Epoch [1300/ 2000], Loss: 0.0078 \n",
      "Epoch [1350/ 2000], Loss: 0.0071 \n",
      "Epoch [1400/ 2000], Loss: 0.0065 \n",
      "Epoch [1450/ 2000], Loss: 0.0060 \n",
      "Epoch [1500/ 2000], Loss: 0.0055 \n",
      "Epoch [1550/ 2000], Loss: 0.0052 \n",
      "Epoch [1600/ 2000], Loss: 0.0048 \n",
      "Epoch [1650/ 2000], Loss: 0.0045 \n",
      "Epoch [1700/ 2000], Loss: 0.0042 \n",
      "Epoch [1750/ 2000], Loss: 0.0040 \n",
      "Epoch [1800/ 2000], Loss: 0.0038 \n",
      "Epoch [1850/ 2000], Loss: 0.0036 \n",
      "Epoch [1900/ 2000], Loss: 0.0034 \n",
      "Epoch [1950/ 2000], Loss: 0.0032 \n",
      "Epoch [2000/ 2000], Loss: 0.0031 \n"
     ]
    }
   ],
   "source": [
    "# Train the model\n",
    "num_epochs = 2000\n",
    "\n",
    "losses = []\n",
    "for epoch in range(num_epochs):\n",
    "    # Set the model to training mode\n",
    "    # This step is always necessary during training \n",
    "    model_v2.train()\n",
    "    \n",
    "    # PyTorch keeps track of all the gradients generated \n",
    "    # throughout the whole training procedure\n",
    "    # But we only need the gradient of the current time step\n",
    "    # so we need to zero-out the gradient buffer\n",
    "    optimizer_v2.zero_grad()\n",
    "    \n",
    "    # Do forward propagation\n",
    "    logits = model_v2(X)\n",
    "    \n",
    "    # Calculate the loss \n",
    "    loss = loss_fn(logits, y)\n",
    "    \n",
    "    # Do backward propagation\n",
    "    loss.backward()\n",
    "    \n",
    "    # Update the model parameters \n",
    "    optimizer_v2.step()\n",
    "    \n",
    "    # Get the prediction\n",
    "    prediction = torch.argmax(logits, dim=1)\n",
    "    \n",
    "    # PyTorch supports elements elementwise comparison\n",
    "    acc = torch.mean((prediction == y).float())\n",
    "    \n",
    "    losses.append(loss.item())\n",
    "    \n",
    "    # print the loss value every 50 epochs\n",
    "    if (epoch + 1) % 50 == 0:\n",
    "        print('Epoch [{}/ {}], Loss: {:.4f} '.format(epoch + 1, num_epochs, losses[-1]))"
   ]
  },
  {
   "cell_type": "code",
   "execution_count": 20,
   "metadata": {},
   "outputs": [
    {
     "name": "stdout",
     "output_type": "stream",
     "text": [
      "Accuracy: 100.00%\n"
     ]
    }
   ],
   "source": [
    "# Evaluate the model\n",
    "# Need to go into eval mode\n",
    "model_v2.eval()\n",
    "\n",
    "# Do a forward pass and tell PyTorch to not keep track of\n",
    "# the gradient calculation to save memory\n",
    "with torch.no_grad():\n",
    "    logits = model_v2(X)\n",
    "\n",
    "# make prediction\n",
    "prediction = torch.argmax(logits, dim=1)\n",
    "\n",
    "# Calculate the accracuy\n",
    "print('Accuracy: {:.2f}%'.format(torch.mean((prediction == y).float()).item() * 100))"
   ]
  },
  {
   "cell_type": "code",
   "execution_count": 21,
   "metadata": {},
   "outputs": [
    {
     "data": {
      "image/png": "[encoded data removed]",
      "text/plain": [
       "<Figure size 432x288 with 1 Axes>"
      ]
     },
     "metadata": {
      "needs_background": "light"
     },
     "output_type": "display_data"
    }
   ],
   "source": [
    "# visualize the model\n",
    "h.visclassifier(model_v2, X.numpy(), y.numpy())"
   ]
  },
  {
   "cell_type": "markdown",
   "metadata": {},
   "source": [
    "### Tensorflow approach\n",
    "\n",
    "With Tensorflow, you can follow the simple 5 steps to train your model on data\n",
    "\n",
    "Like in Pytorch, first you define your network with layers. However, unlike in Pytorch, the model definition in Tensorflow also defines the exact forward propagation. In other words, Tensorflow automatically attaches the layers for you whereas Pytorch requires you to define a `forward` method for forward propagation. The latter approach has both an upside and a downside: gives the user more flexibility but demands repetitive work.\n",
    "\n",
    "With Tensorflow's `compile` and `fit` methods, you can easily and cleanly perform training. Again, Pytorch provides the user more flexibility by requiring them to write the training/evaluation step in a Python-ic way. On the other hand, Tensorflow provides in-built functions that conveniently connect to `compile` and `fit`. \n",
    "\n",
    "[Tensorflow's recent versions provide more control on the training step like Pytorch.](https://www.tensorflow.org/tutorials/quickstart/advanced)"
   ]
  },
  {
   "cell_type": "code",
   "execution_count": 22,
   "metadata": {},
   "outputs": [],
   "source": [
    "import tensorflow as tf"
   ]
  },
  {
   "cell_type": "markdown",
   "metadata": {},
   "source": [
    "### Training the v1 model in Tensorflow\n",
    "\n",
    "1. Creating a model\n",
    "2. Define a loss function\n",
    "3. Define an optimizer\n",
    "4. Training the Network\n",
    "\n",
    "Notes:\n",
    "- We use the `SparseCategoricalCrossentropy` loss function since the true `y` is a vector of are binary labels of shape `len(data)` and the logit outputs of the model is a matrix of logits of shape `len(data), 2`. Since the outputs are not normalized between 0 and 1, we specify `from_logits=True`.\n",
    "- By default, Tensorflow outputs loss and metrics at the end of every epoch. We use a custom logger function to only output every 50 epochs."
   ]
  },
  {
   "cell_type": "code",
   "execution_count": 23,
   "metadata": {},
   "outputs": [
    {
     "name": "stdout",
     "output_type": "stream",
     "text": [
      "Model: \"sequential\"\n",
      "_________________________________________________________________\n",
      "Layer (type)                 Output Shape              Param #   \n",
      "=================================================================\n",
      "fc1 (Dense)                  (None, 64)                192       \n",
      "_________________________________________________________________\n",
      "fc2 (Dense)                  (None, 32)                2080      \n",
      "_________________________________________________________________\n",
      "fc3 (Dense)                  (None, 16)                528       \n",
      "_________________________________________________________________\n",
      "fc4 (Dense)                  (None, 2)                 34        \n",
      "=================================================================\n",
      "Total params: 2,834\n",
      "Trainable params: 2,834\n",
      "Non-trainable params: 0\n",
      "_________________________________________________________________\n",
      "Epoch [50/ 2000], Loss: 0.4821, Accuracy: 0.7183\n",
      "Epoch [100/ 2000], Loss: 0.0071, Accuracy: 1.0000\n",
      "Epoch [150/ 2000], Loss: 0.0013, Accuracy: 1.0000\n",
      "Epoch [200/ 2000], Loss: 0.0006, Accuracy: 1.0000\n",
      "Epoch [250/ 2000], Loss: 0.0004, Accuracy: 1.0000\n",
      "Epoch [300/ 2000], Loss: 0.0003, Accuracy: 1.0000\n",
      "Epoch [350/ 2000], Loss: 0.0002, Accuracy: 1.0000\n",
      "Epoch [400/ 2000], Loss: 0.0002, Accuracy: 1.0000\n",
      "Epoch [450/ 2000], Loss: 0.0002, Accuracy: 1.0000\n",
      "Epoch [500/ 2000], Loss: 0.0001, Accuracy: 1.0000\n",
      "Epoch [550/ 2000], Loss: 0.0001, Accuracy: 1.0000\n",
      "Epoch [600/ 2000], Loss: 0.0001, Accuracy: 1.0000\n",
      "Epoch [650/ 2000], Loss: 0.0001, Accuracy: 1.0000\n",
      "Epoch [700/ 2000], Loss: 0.0001, Accuracy: 1.0000\n",
      "Epoch [750/ 2000], Loss: 0.0001, Accuracy: 1.0000\n",
      "Epoch [800/ 2000], Loss: 0.0001, Accuracy: 1.0000\n",
      "Epoch [850/ 2000], Loss: 0.0001, Accuracy: 1.0000\n",
      "Epoch [900/ 2000], Loss: 0.0001, Accuracy: 1.0000\n",
      "Epoch [950/ 2000], Loss: 0.0001, Accuracy: 1.0000\n",
      "Epoch [1000/ 2000], Loss: 0.0000, Accuracy: 1.0000\n",
      "Epoch [1050/ 2000], Loss: 0.0000, Accuracy: 1.0000\n",
      "Epoch [1100/ 2000], Loss: 0.0000, Accuracy: 1.0000\n",
      "Epoch [1150/ 2000], Loss: 0.0000, Accuracy: 1.0000\n",
      "Epoch [1200/ 2000], Loss: 0.0000, Accuracy: 1.0000\n",
      "Epoch [1250/ 2000], Loss: 0.0000, Accuracy: 1.0000\n",
      "Epoch [1300/ 2000], Loss: 0.0000, Accuracy: 1.0000\n",
      "Epoch [1350/ 2000], Loss: 0.0000, Accuracy: 1.0000\n",
      "Epoch [1400/ 2000], Loss: 0.0000, Accuracy: 1.0000\n",
      "Epoch [1450/ 2000], Loss: 0.0000, Accuracy: 1.0000\n",
      "Epoch [1500/ 2000], Loss: 0.0000, Accuracy: 1.0000\n",
      "Epoch [1550/ 2000], Loss: 0.0000, Accuracy: 1.0000\n",
      "Epoch [1600/ 2000], Loss: 0.0000, Accuracy: 1.0000\n",
      "Epoch [1650/ 2000], Loss: 0.0000, Accuracy: 1.0000\n",
      "Epoch [1700/ 2000], Loss: 0.0000, Accuracy: 1.0000\n",
      "Epoch [1750/ 2000], Loss: 0.0000, Accuracy: 1.0000\n",
      "Epoch [1800/ 2000], Loss: 0.0000, Accuracy: 1.0000\n",
      "Epoch [1850/ 2000], Loss: 0.0000, Accuracy: 1.0000\n",
      "Epoch [1900/ 2000], Loss: 0.0000, Accuracy: 1.0000\n",
      "Epoch [1950/ 2000], Loss: 0.0000, Accuracy: 1.0000\n",
      "Epoch [2000/ 2000], Loss: 0.0000, Accuracy: 1.0000\n"
     ]
    }
   ],
   "source": [
    "X_np = X.numpy()\n",
    "y_np = y.numpy()\n",
    "\n",
    "## Creating a model\n",
    "model = tf.keras.Sequential([\n",
    "    tf.keras.Input(shape=(2)),\n",
    "    tf.keras.layers.Dense(64, activation='relu', name='fc1'),\n",
    "    tf.keras.layers.Dense(32, activation='relu', name='fc2'),\n",
    "    tf.keras.layers.Dense(16, activation='relu', name='fc3'),\n",
    "    tf.keras.layers.Dense(2, activation=None, name='fc4'),\n",
    "])\n",
    "\n",
    "# Display the model's parameters\n",
    "model.summary()\n",
    "\n",
    "## Define a loss function\n",
    "loss_fn = tf.keras.losses.SparseCategoricalCrossentropy(from_logits=True)\n",
    "\n",
    "## Define an optimizer\n",
    "optimizer = tf.keras.optimizers.SGD(learning_rate=0.1)\n",
    "\n",
    "## Training the network\n",
    "model.compile(optimizer=optimizer, loss=loss_fn, metrics=['accuracy'])\n",
    "history = model.fit(\n",
    "    X_np,\n",
    "    y_np,\n",
    "    epochs=num_epochs,\n",
    "    verbose=0, # disable the default progress bar\n",
    "    callbacks=[h.ProgBarLoggerNEpochs(num_epochs, every_n=50)],\n",
    ")"
   ]
  },
  {
   "cell_type": "markdown",
   "metadata": {},
   "source": [
    "`model.summary()` is an incredibly useful tool. It also shows the number of parameters per layer. \n",
    "\n",
    "For example, since the first layer is $64$ units and the input dimension is $2$, the first weight matrix $\\mathbf{W}_1$ must be of shape $2 \\times 64$. Recall that $\\mathbf{Z}_1 = \\sigma(\\mathbf{W}_1 \\mathbf{x} + \\mathbf{b})$ where $\\mathbf{x}$ is one input point and $\\mathbf{b}$ is the bias vector added after matrix multiplication of $\\mathbf{W}_1$ with $\\mathbf{x}$. To match dimensions, the vectors $\\mathbf{b}$ and $\\mathbf{W}_1 \\mathbf{x}$ must be of equal length, i.e., $64$. Hence, how many parameters does the first layer have in total?\n",
    "\n",
    "Well, it is $2 \\times 64 + 64 = 192$, which we see in the summary table. Likewise, the second layer has $64 \\times 32 + 32 = 2080$ parameters, and so on."
   ]
  },
  {
   "cell_type": "code",
   "execution_count": 24,
   "metadata": {},
   "outputs": [
    {
     "data": {
      "image/png": "[encoded data removed]",
      "text/plain": [
       "<Figure size 432x288 with 1 Axes>"
      ]
     },
     "metadata": {
      "needs_background": "light"
     },
     "output_type": "display_data"
    }
   ],
   "source": [
    "training_losses = history.history['loss']\n",
    "\n",
    "plt.plot(range(1, num_epochs + 1), training_losses, label='Training Loss')\n",
    "plt.xlabel('Epoch')\n",
    "plt.show()"
   ]
  },
  {
   "cell_type": "markdown",
   "metadata": {},
   "source": [
    "5. Evaluate the Network"
   ]
  },
  {
   "cell_type": "code",
   "execution_count": 25,
   "metadata": {},
   "outputs": [
    {
     "name": "stdout",
     "output_type": "stream",
     "text": [
      "19/19 [==============================] - 0s 997us/step - loss: 2.0036e-05 - accuracy: 1.0000\n",
      "Calculating accuracy in Tensorflow manually with logits\n",
      "Accuracy: 100.00%\n"
     ]
    }
   ],
   "source": [
    "## Evaluate the Network\n",
    "model.evaluate(X_np, y_np)\n",
    "\n",
    "## OR\n",
    "print('Calculating accuracy in Tensorflow manually with logits')\n",
    "\n",
    "# get logits\n",
    "logits = model(X_np)\n",
    "\n",
    "# make prediction\n",
    "prediction = tf.argmax(logits, axis=1)\n",
    "\n",
    "# Calculate the accuracy\n",
    "accuracy = tf.reduce_mean(tf.cast(prediction == y, tf.float32)).numpy()\n",
    "print('Accuracy: {:.2f}%'.format(accuracy * 100))"
   ]
  },
  {
   "cell_type": "code",
   "execution_count": 26,
   "metadata": {},
   "outputs": [
    {
     "data": {
      "image/png": "[encoded data removed]",
      "text/plain": [
       "<Figure size 432x288 with 1 Axes>"
      ]
     },
     "metadata": {
      "needs_background": "light"
     },
     "output_type": "display_data"
    }
   ],
   "source": [
    "# visualize the model\n",
    "h.visclassifier_tf(model, X_np, y_np)"
   ]
  },
  {
   "cell_type": "code",
   "execution_count": null,
   "metadata": {},
   "outputs": [],
   "source": []
  }
 ],
 "metadata": {
  "kernelspec": {
   "display_name": "Python 3",
   "language": "python",
   "name": "python3"
  },
  "language_info": {
   "codemirror_mode": {
    "name": "ipython",
    "version": 3
   },
   "file_extension": ".py",
   "mimetype": "text/x-python",
   "name": "python",
   "nbconvert_exporter": "python",
   "pygments_lexer": "ipython3",
   "version": "3.6.8"
  }
 },
 "nbformat": 4,
 "nbformat_minor": 4
}
